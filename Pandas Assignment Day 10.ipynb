{
 "cells": [
  {
   "cell_type": "markdown",
   "id": "3045683e",
   "metadata": {
    "id": "XHvoVqK5mYA-"
   },
   "source": [
    "# <center>Pandas Assignment</center>"
   ]
  },
  {
   "cell_type": "markdown",
   "id": "fc6f50a2",
   "metadata": {
    "id": "v9Qb2_aumYBF"
   },
   "source": [
    "Import pandas and numpy with their aliases"
   ]
  },
  {
   "cell_type": "code",
   "execution_count": 93,
   "id": "58c018e2",
   "metadata": {
    "id": "ihFP1wXZmYBF"
   },
   "outputs": [],
   "source": [
    "import numpy as np\n",
    "import pandas as pd\n",
    "\n"
   ]
  },
  {
   "cell_type": "markdown",
   "id": "429707dd",
   "metadata": {
    "id": "0b8hUBhTmYBG"
   },
   "source": [
    "Create a variable a = pd.Series([ 100, 200, 300, 400])"
   ]
  },
  {
   "cell_type": "code",
   "execution_count": 6,
   "id": "ab38a959",
   "metadata": {
    "id": "hzvzkbNYmYBH"
   },
   "outputs": [],
   "source": [
    "a = pd.Series([100,200,300,400], index = ['a','b','c','d'])\n",
    "\n",
    "\n"
   ]
  },
  {
   "cell_type": "markdown",
   "id": "78b328f4",
   "metadata": {
    "id": "BSyNFbitmYBH"
   },
   "source": [
    "Print a, and data type"
   ]
  },
  {
   "cell_type": "code",
   "execution_count": 7,
   "id": "6dba6247",
   "metadata": {
    "id": "GMmFsjPamYBH",
    "outputId": "e21bf8f8-3d7a-4ec6-ea93-7885f9b0a648"
   },
   "outputs": [
    {
     "name": "stdout",
     "output_type": "stream",
     "text": [
      "a    100\n",
      "b    200\n",
      "c    300\n",
      "d    400\n",
      "dtype: int64\n"
     ]
    }
   ],
   "source": [
    "print(a)"
   ]
  },
  {
   "cell_type": "markdown",
   "id": "48b16e3b",
   "metadata": {
    "id": "z0FryxOXmYBI"
   },
   "source": [
    "Using indexing access the element 300 from the series a."
   ]
  },
  {
   "cell_type": "code",
   "execution_count": 8,
   "id": "9d2d661d",
   "metadata": {
    "id": "wERTsh-4mYBJ",
    "outputId": "de60a58f-c084-4955-ab6e-b453f6280c98"
   },
   "outputs": [
    {
     "name": "stdout",
     "output_type": "stream",
     "text": [
      "300\n"
     ]
    }
   ],
   "source": [
    "print(a['c'])\n"
   ]
  },
  {
   "cell_type": "markdown",
   "id": "4a8f6f17",
   "metadata": {
    "id": "HHEKyOtemYBJ"
   },
   "source": [
    "What are the values of index for series a?"
   ]
  },
  {
   "cell_type": "code",
   "execution_count": 9,
   "id": "f4e386b4",
   "metadata": {
    "id": "uQOnSJQ4mYBJ",
    "outputId": "de695171-b817-4495-bf3b-be91ade7c7c4"
   },
   "outputs": [
    {
     "name": "stdout",
     "output_type": "stream",
     "text": [
      "Index(['a', 'b', 'c', 'd'], dtype='object')\n",
      "[100 200 300 400]\n"
     ]
    }
   ],
   "source": [
    "index = a.index\n",
    "values = a.values\n",
    "\n",
    "print (index)\n",
    "print (values)"
   ]
  },
  {
   "cell_type": "markdown",
   "id": "ead5abc2",
   "metadata": {
    "id": "EuFjG74wmYBJ"
   },
   "source": [
    "Change the index to  ['c', 'a', 'b', 'd']"
   ]
  },
  {
   "cell_type": "code",
   "execution_count": 10,
   "id": "b01e13fe",
   "metadata": {
    "id": "1ueAAFiJmYBK",
    "outputId": "cc9737be-1c56-4b92-febb-ad609f07e14a"
   },
   "outputs": [
    {
     "data": {
      "text/plain": [
       "c    300\n",
       "a    100\n",
       "b    200\n",
       "d    400\n",
       "dtype: int64"
      ]
     },
     "execution_count": 10,
     "metadata": {},
     "output_type": "execute_result"
    }
   ],
   "source": [
    "s = a.reindex(index = ['c','a','b','d'])\n",
    "\n",
    "s.head()\n",
    "\n"
   ]
  },
  {
   "cell_type": "markdown",
   "id": "c2d4bffa",
   "metadata": {
    "id": "ZdZLyRO7mYBK"
   },
   "source": [
    "Access the value in the series with index 'd'"
   ]
  },
  {
   "cell_type": "code",
   "execution_count": 11,
   "id": "37f5f85d",
   "metadata": {
    "id": "oN1ce3GymYBK",
    "outputId": "cba39f6a-cd4d-4934-b5cf-49cafd4ddc31"
   },
   "outputs": [
    {
     "name": "stdout",
     "output_type": "stream",
     "text": [
      "400\n"
     ]
    }
   ],
   "source": [
    "print (a['d'])\n",
    "\n"
   ]
  },
  {
   "cell_type": "markdown",
   "id": "1de39293",
   "metadata": {
    "id": "eQSGwKtFmYBK"
   },
   "source": [
    "Sort the values wrt to the index and print it"
   ]
  },
  {
   "cell_type": "code",
   "execution_count": 12,
   "id": "3f95051c",
   "metadata": {
    "id": "-arvricBmYBL",
    "outputId": "f1286103-c02c-4ee2-e25f-f8b0d8215198"
   },
   "outputs": [
    {
     "data": {
      "text/plain": [
       "a    100\n",
       "b    200\n",
       "c    300\n",
       "d    400\n",
       "dtype: int64"
      ]
     },
     "execution_count": 12,
     "metadata": {},
     "output_type": "execute_result"
    }
   ],
   "source": [
    "a.sort_index(axis = 0)\n",
    "\n",
    "\n"
   ]
  },
  {
   "cell_type": "markdown",
   "id": "aeb75244",
   "metadata": {
    "id": "g-fXVSK2mYBL"
   },
   "source": [
    "Create a new Pandas Series b having index as 'e', 'f', and 'g' and value 800,450,100 and print it"
   ]
  },
  {
   "cell_type": "code",
   "execution_count": 12,
   "id": "d12c16a3",
   "metadata": {
    "id": "fAg_rI3hmYBL",
    "outputId": "0bf9ddea-64c2-402a-f129-cd640ffec5b2"
   },
   "outputs": [
    {
     "name": "stdout",
     "output_type": "stream",
     "text": [
      "0    800\n",
      "1    450\n",
      "2    100\n",
      "dtype: int64\n",
      "0    e\n",
      "1    f\n",
      "2    g\n",
      "dtype: object\n"
     ]
    }
   ],
   "source": [
    "numbers = [800 ,450 ,100]\n",
    "ser1 = pd.Series(list(numbers))\n",
    "index = [\"e\",\"f\",\"g\"]\n",
    "ser = pd.Series((index))\n",
    "\n",
    "print (ser1)\n",
    "print (ser)"
   ]
  },
  {
   "cell_type": "markdown",
   "id": "86e55f9c",
   "metadata": {
    "id": "jWhRRtF1mYBL"
   },
   "source": [
    "Append b series at the end of a series"
   ]
  },
  {
   "cell_type": "code",
   "execution_count": 8,
   "id": "1b5aa320",
   "metadata": {
    "id": "TBV8hkRXmYBL"
   },
   "outputs": [],
   "source": [
    " a = ser._append(ser1)\n"
   ]
  },
  {
   "cell_type": "code",
   "execution_count": 9,
   "id": "2afe0a16",
   "metadata": {
    "id": "Xfm5WgBYmYBM",
    "outputId": "45dbeb71-cdd2-46ac-8b76-947f9e4eab54"
   },
   "outputs": [
    {
     "name": "stdout",
     "output_type": "stream",
     "text": [
      "0      e\n",
      "1      f\n",
      "2      g\n",
      "0    800\n",
      "1    450\n",
      "2    100\n",
      "dtype: object\n"
     ]
    }
   ],
   "source": [
    "#print a again after appending b into it\n",
    "print (a)\n",
    "\n",
    "\n"
   ]
  },
  {
   "cell_type": "markdown",
   "id": "7dfbf0d4",
   "metadata": {
    "id": "6lz_BR0umYBM"
   },
   "source": [
    "Sort the values in descending order of a and print the index of the sorted series"
   ]
  },
  {
   "cell_type": "code",
   "execution_count": 13,
   "id": "251b7733",
   "metadata": {
    "id": "5srJV0y0mYBM"
   },
   "outputs": [
    {
     "name": "stdout",
     "output_type": "stream",
     "text": [
      "0      e\n",
      "0    800\n",
      "1      f\n",
      "1    450\n",
      "2      g\n",
      "2    100\n",
      "dtype: object\n"
     ]
    }
   ],
   "source": [
    " a = a.sort_index(axis = 0)\n",
    "\n",
    "print (a)"
   ]
  },
  {
   "cell_type": "code",
   "execution_count": null,
   "id": "9ba409c4",
   "metadata": {
    "id": "9OxmwQRAmYBM",
    "outputId": "d5a2ecdc-aca2-42da-ed66-18102af915bc"
   },
   "outputs": [],
   "source": [
    "\n",
    "\n"
   ]
  },
  {
   "cell_type": "markdown",
   "id": "531a8bbf",
   "metadata": {
    "id": "OQ5gj4romYBM"
   },
   "source": [
    "## Pandas DataFrame"
   ]
  },
  {
   "cell_type": "markdown",
   "id": "57970a8b",
   "metadata": {
    "id": "tD7de_2amYBM"
   },
   "source": [
    "### Part 1"
   ]
  },
  {
   "cell_type": "markdown",
   "id": "2c8e7364",
   "metadata": {
    "id": "z_nAQa4BmYBN"
   },
   "source": [
    "Create a pandas dataframe df from the series 'a' that we used in the last section, print the dataframe"
   ]
  },
  {
   "cell_type": "code",
   "execution_count": 17,
   "id": "476b647c",
   "metadata": {
    "id": "ojD-B6FvmYBN",
    "outputId": "628c307e-fe67-471b-9ff6-e1167f0e9529"
   },
   "outputs": [],
   "source": [
    "df = pd.DataFrame ([100,200,300,400,500,600])\n",
    "\n"
   ]
  },
  {
   "cell_type": "code",
   "execution_count": 18,
   "id": "b3fee6cb",
   "metadata": {
    "id": "2r2SyCYNmYBN"
   },
   "outputs": [
    {
     "data": {
      "text/html": [
       "<div>\n",
       "<style scoped>\n",
       "    .dataframe tbody tr th:only-of-type {\n",
       "        vertical-align: middle;\n",
       "    }\n",
       "\n",
       "    .dataframe tbody tr th {\n",
       "        vertical-align: top;\n",
       "    }\n",
       "\n",
       "    .dataframe thead th {\n",
       "        text-align: right;\n",
       "    }\n",
       "</style>\n",
       "<table border=\"1\" class=\"dataframe\">\n",
       "  <thead>\n",
       "    <tr style=\"text-align: right;\">\n",
       "      <th></th>\n",
       "      <th>0</th>\n",
       "    </tr>\n",
       "  </thead>\n",
       "  <tbody>\n",
       "    <tr>\n",
       "      <th>0</th>\n",
       "      <td>100</td>\n",
       "    </tr>\n",
       "    <tr>\n",
       "      <th>1</th>\n",
       "      <td>200</td>\n",
       "    </tr>\n",
       "    <tr>\n",
       "      <th>2</th>\n",
       "      <td>300</td>\n",
       "    </tr>\n",
       "    <tr>\n",
       "      <th>3</th>\n",
       "      <td>400</td>\n",
       "    </tr>\n",
       "    <tr>\n",
       "      <th>4</th>\n",
       "      <td>500</td>\n",
       "    </tr>\n",
       "  </tbody>\n",
       "</table>\n",
       "</div>"
      ],
      "text/plain": [
       "     0\n",
       "0  100\n",
       "1  200\n",
       "2  300\n",
       "3  400\n",
       "4  500"
      ]
     },
     "execution_count": 18,
     "metadata": {},
     "output_type": "execute_result"
    }
   ],
   "source": [
    "df.head()"
   ]
  },
  {
   "cell_type": "markdown",
   "id": "7b3f88c3",
   "metadata": {
    "id": "yzrIH3irmYBN"
   },
   "source": [
    "What is the shape of the datafarme <br>\n",
    "(also, what does it imply?)"
   ]
  },
  {
   "cell_type": "code",
   "execution_count": 19,
   "id": "7d2e88f8",
   "metadata": {
    "id": "aFo5tNrVmYBN",
    "outputId": "f3145f5e-75b2-4bf0-87f3-07c405845ad4"
   },
   "outputs": [
    {
     "data": {
      "text/plain": [
       "(6, 1)"
      ]
     },
     "execution_count": 19,
     "metadata": {},
     "output_type": "execute_result"
    }
   ],
   "source": [
    "df.shape\n",
    "\n",
    "\n"
   ]
  },
  {
   "cell_type": "markdown",
   "id": "e6b7a60c",
   "metadata": {
    "id": "Dl0Hr0LSmYBO"
   },
   "source": [
    "Hey! remember shape (7,1) implies dataframe has 7 rows and 1 column. "
   ]
  },
  {
   "cell_type": "markdown",
   "id": "018ee08a",
   "metadata": {
    "id": "hwcaXl43mYBO"
   },
   "source": [
    "What is the index of the dataframe, is it same as the series 'a' "
   ]
  },
  {
   "cell_type": "code",
   "execution_count": 20,
   "id": "0f2191d8",
   "metadata": {
    "id": "1-gMxT-emYBO",
    "outputId": "25df79a2-b1c6-45af-b179-53b79fe23fcd"
   },
   "outputs": [
    {
     "name": "stdout",
     "output_type": "stream",
     "text": [
      "RangeIndex(start=0, stop=6, step=1)\n"
     ]
    }
   ],
   "source": [
    "# yep its same as the series.\n",
    "\n",
    "index = df.index\n",
    "print (index)"
   ]
  },
  {
   "cell_type": "markdown",
   "id": "880b44fe",
   "metadata": {
    "id": "C5wadnBymYBO"
   },
   "source": [
    "print the head and tail of the dataframe. <br>\n",
    "Additional - (what does head and tali represent?)"
   ]
  },
  {
   "cell_type": "code",
   "execution_count": 21,
   "id": "de1bda11",
   "metadata": {
    "id": "U2vxYrPnmYBO",
    "outputId": "7f439669-2345-46f9-f46e-d134fb09bbd7"
   },
   "outputs": [
    {
     "data": {
      "text/html": [
       "<div>\n",
       "<style scoped>\n",
       "    .dataframe tbody tr th:only-of-type {\n",
       "        vertical-align: middle;\n",
       "    }\n",
       "\n",
       "    .dataframe tbody tr th {\n",
       "        vertical-align: top;\n",
       "    }\n",
       "\n",
       "    .dataframe thead th {\n",
       "        text-align: right;\n",
       "    }\n",
       "</style>\n",
       "<table border=\"1\" class=\"dataframe\">\n",
       "  <thead>\n",
       "    <tr style=\"text-align: right;\">\n",
       "      <th></th>\n",
       "      <th>0</th>\n",
       "    </tr>\n",
       "  </thead>\n",
       "  <tbody>\n",
       "    <tr>\n",
       "      <th>0</th>\n",
       "      <td>100</td>\n",
       "    </tr>\n",
       "    <tr>\n",
       "      <th>1</th>\n",
       "      <td>200</td>\n",
       "    </tr>\n",
       "    <tr>\n",
       "      <th>2</th>\n",
       "      <td>300</td>\n",
       "    </tr>\n",
       "    <tr>\n",
       "      <th>3</th>\n",
       "      <td>400</td>\n",
       "    </tr>\n",
       "    <tr>\n",
       "      <th>4</th>\n",
       "      <td>500</td>\n",
       "    </tr>\n",
       "    <tr>\n",
       "      <th>5</th>\n",
       "      <td>600</td>\n",
       "    </tr>\n",
       "  </tbody>\n",
       "</table>\n",
       "</div>"
      ],
      "text/plain": [
       "     0\n",
       "0  100\n",
       "1  200\n",
       "2  300\n",
       "3  400\n",
       "4  500\n",
       "5  600"
      ]
     },
     "execution_count": 21,
     "metadata": {},
     "output_type": "execute_result"
    }
   ],
   "source": [
    "\n",
    "df\n"
   ]
  },
  {
   "cell_type": "code",
   "execution_count": 22,
   "id": "9800eeb4",
   "metadata": {
    "id": "nikOdGC_mYBO",
    "outputId": "2ab575b8-468b-4fbe-a6fa-80a607a83857"
   },
   "outputs": [
    {
     "name": "stdout",
     "output_type": "stream",
     "text": [
      "     0\n",
      "0  100\n",
      "1  200\n",
      "     0\n",
      "4  500\n",
      "5  600\n"
     ]
    }
   ],
   "source": [
    "print (df.head(2))\n",
    "\n",
    "\n",
    "print (df.tail(2))\n"
   ]
  },
  {
   "cell_type": "markdown",
   "id": "b05a4ac1",
   "metadata": {
    "id": "Ci2tiwbBmYBO"
   },
   "source": [
    "Rename the column of the dataframe as 'points'"
   ]
  },
  {
   "cell_type": "code",
   "execution_count": 25,
   "id": "84833470",
   "metadata": {
    "id": "K3OsbVD3mYBP",
    "outputId": "f49057a3-e48a-4124-c1f9-3ccdf264dbf3"
   },
   "outputs": [
    {
     "data": {
      "text/html": [
       "<div>\n",
       "<style scoped>\n",
       "    .dataframe tbody tr th:only-of-type {\n",
       "        vertical-align: middle;\n",
       "    }\n",
       "\n",
       "    .dataframe tbody tr th {\n",
       "        vertical-align: top;\n",
       "    }\n",
       "\n",
       "    .dataframe thead th {\n",
       "        text-align: right;\n",
       "    }\n",
       "</style>\n",
       "<table border=\"1\" class=\"dataframe\">\n",
       "  <thead>\n",
       "    <tr style=\"text-align: right;\">\n",
       "      <th></th>\n",
       "      <th>0</th>\n",
       "    </tr>\n",
       "  </thead>\n",
       "  <tbody>\n",
       "    <tr>\n",
       "      <th>0</th>\n",
       "      <td>100</td>\n",
       "    </tr>\n",
       "    <tr>\n",
       "      <th>1</th>\n",
       "      <td>200</td>\n",
       "    </tr>\n",
       "    <tr>\n",
       "      <th>2</th>\n",
       "      <td>300</td>\n",
       "    </tr>\n",
       "    <tr>\n",
       "      <th>3</th>\n",
       "      <td>400</td>\n",
       "    </tr>\n",
       "    <tr>\n",
       "      <th>4</th>\n",
       "      <td>500</td>\n",
       "    </tr>\n",
       "    <tr>\n",
       "      <th>5</th>\n",
       "      <td>600</td>\n",
       "    </tr>\n",
       "  </tbody>\n",
       "</table>\n",
       "</div>"
      ],
      "text/plain": [
       "     0\n",
       "0  100\n",
       "1  200\n",
       "2  300\n",
       "3  400\n",
       "4  500\n",
       "5  600"
      ]
     },
     "execution_count": 25,
     "metadata": {},
     "output_type": "execute_result"
    }
   ],
   "source": [
    "df.rename (columns = {'1': \"points\"}, inplace = True)\n",
    "\n",
    "df"
   ]
  },
  {
   "cell_type": "markdown",
   "id": "13d4c869",
   "metadata": {
    "id": "bBV0VfzzmYBP"
   },
   "source": [
    "Create another Series 'fruits', which contains random names of fruits from ['orange','mango','apple']. The series should contain 7 elements, randomly selected from ['orange','mango','apple']"
   ]
  },
  {
   "cell_type": "code",
   "execution_count": 51,
   "id": "75a65bbe",
   "metadata": {
    "id": "baUmpsuhmYBP",
    "outputId": "8cbe922c-d257-4587-a7ff-93de58af7c0e"
   },
   "outputs": [],
   "source": [
    "#Create fruits array\n",
    "\n",
    "fruits =['orange','mango','apple']\n",
    "\n"
   ]
  },
  {
   "cell_type": "code",
   "execution_count": 28,
   "id": "1ad90f04",
   "metadata": {
    "id": "QrbnjM8FmYBP",
    "outputId": "f7d318ae-c463-4a03-fb32-466034a5073b"
   },
   "outputs": [],
   "source": [
    "#Create series fruits out of fruits array\n",
    "\n",
    "fruits = ['orange','mango','apple']\n",
    "ser = pd.Series(list(fruits))\n",
    "\n",
    "\n"
   ]
  },
  {
   "cell_type": "markdown",
   "id": "816c446a",
   "metadata": {
    "id": "20slMbq5mYBP"
   },
   "source": [
    "Change the index of fruits to the index of dataframe df"
   ]
  },
  {
   "cell_type": "code",
   "execution_count": 32,
   "id": "f7dac77a",
   "metadata": {
    "id": "1n4THBgkmYBQ",
    "outputId": "6ca845e1-a58b-4a40-d18d-8a59a62a7f8f"
   },
   "outputs": [
    {
     "ename": "AttributeError",
     "evalue": "'DataFrame' object has no attribute 'DataFrame'",
     "output_type": "error",
     "traceback": [
      "\u001b[1;31m---------------------------------------------------------------------------\u001b[0m",
      "\u001b[1;31mAttributeError\u001b[0m                            Traceback (most recent call last)",
      "\u001b[1;32m~\\AppData\\Local\\Temp\\ipykernel_11924\\2764273721.py\u001b[0m in \u001b[0;36m?\u001b[1;34m()\u001b[0m\n\u001b[1;32m----> 1\u001b[1;33m \u001b[0mfruits\u001b[0m \u001b[1;33m=\u001b[0m \u001b[0mdf\u001b[0m\u001b[1;33m.\u001b[0m\u001b[0mDataFrame\u001b[0m\u001b[1;33m(\u001b[0m\u001b[1;33m{\u001b[0m\u001b[1;34m'fruits'\u001b[0m\u001b[1;33m:\u001b[0m\u001b[1;33m[\u001b[0m\u001b[1;34m'orange'\u001b[0m\u001b[1;33m,\u001b[0m\u001b[1;34m'mango'\u001b[0m\u001b[1;33m,\u001b[0m\u001b[1;34m'apple'\u001b[0m\u001b[1;33m]\u001b[0m\u001b[1;33m}\u001b[0m\u001b[1;33m)\u001b[0m\u001b[1;33m\u001b[0m\u001b[1;33m\u001b[0m\u001b[0m\n\u001b[0m\u001b[0;32m      2\u001b[0m \u001b[1;33m\u001b[0m\u001b[0m\n\u001b[0;32m      3\u001b[0m \u001b[1;33m\u001b[0m\u001b[0m\n\u001b[0;32m      4\u001b[0m \u001b[1;33m\u001b[0m\u001b[0m\n",
      "\u001b[1;32m~\\anaconda3\\Lib\\site-packages\\pandas\\core\\generic.py\u001b[0m in \u001b[0;36m?\u001b[1;34m(self, name)\u001b[0m\n\u001b[0;32m   5985\u001b[0m             \u001b[1;32mand\u001b[0m \u001b[0mname\u001b[0m \u001b[1;32mnot\u001b[0m \u001b[1;32min\u001b[0m \u001b[0mself\u001b[0m\u001b[1;33m.\u001b[0m\u001b[0m_accessors\u001b[0m\u001b[1;33m\u001b[0m\u001b[1;33m\u001b[0m\u001b[0m\n\u001b[0;32m   5986\u001b[0m             \u001b[1;32mand\u001b[0m \u001b[0mself\u001b[0m\u001b[1;33m.\u001b[0m\u001b[0m_info_axis\u001b[0m\u001b[1;33m.\u001b[0m\u001b[0m_can_hold_identifiers_and_holds_name\u001b[0m\u001b[1;33m(\u001b[0m\u001b[0mname\u001b[0m\u001b[1;33m)\u001b[0m\u001b[1;33m\u001b[0m\u001b[1;33m\u001b[0m\u001b[0m\n\u001b[0;32m   5987\u001b[0m         ):\n\u001b[0;32m   5988\u001b[0m             \u001b[1;32mreturn\u001b[0m \u001b[0mself\u001b[0m\u001b[1;33m[\u001b[0m\u001b[0mname\u001b[0m\u001b[1;33m]\u001b[0m\u001b[1;33m\u001b[0m\u001b[1;33m\u001b[0m\u001b[0m\n\u001b[1;32m-> 5989\u001b[1;33m         \u001b[1;32mreturn\u001b[0m \u001b[0mobject\u001b[0m\u001b[1;33m.\u001b[0m\u001b[0m__getattribute__\u001b[0m\u001b[1;33m(\u001b[0m\u001b[0mself\u001b[0m\u001b[1;33m,\u001b[0m \u001b[0mname\u001b[0m\u001b[1;33m)\u001b[0m\u001b[1;33m\u001b[0m\u001b[1;33m\u001b[0m\u001b[0m\n\u001b[0m",
      "\u001b[1;31mAttributeError\u001b[0m: 'DataFrame' object has no attribute 'DataFrame'"
     ]
    }
   ],
   "source": [
    "fruits = df.DataFrame({'fruits':['orange','mango','apple']})\n",
    "\n",
    "\n",
    "\n",
    "\n"
   ]
  },
  {
   "cell_type": "markdown",
   "id": "a4d33341",
   "metadata": {
    "id": "oPv8dJ_2mYBQ"
   },
   "source": [
    "Add this fruits series as a new column to the dataframe df with its column name as 'fruits'\n",
    "<br>print the head of the dataframe to verify"
   ]
  },
  {
   "cell_type": "code",
   "execution_count": 34,
   "id": "8a2d6e12",
   "metadata": {
    "id": "tit_GDscmYBQ",
    "outputId": "a2d0549f-2846-4331-c159-2f76af6fe9e2"
   },
   "outputs": [],
   "source": [
    "df = fruits\n"
   ]
  },
  {
   "cell_type": "code",
   "execution_count": 36,
   "id": "f8d95867",
   "metadata": {
    "id": "X3A6oKUXmYBQ",
    "outputId": "230256fe-9ef4-413a-913f-bd389ac35402"
   },
   "outputs": [
    {
     "ename": "TypeError",
     "evalue": "'list' object is not callable",
     "output_type": "error",
     "traceback": [
      "\u001b[1;31m---------------------------------------------------------------------------\u001b[0m",
      "\u001b[1;31mTypeError\u001b[0m                                 Traceback (most recent call last)",
      "Cell \u001b[1;32mIn[36], line 1\u001b[0m\n\u001b[1;32m----> 1\u001b[0m df()\n",
      "\u001b[1;31mTypeError\u001b[0m: 'list' object is not callable"
     ]
    }
   ],
   "source": [
    "df.head()\n",
    "\n",
    "\n",
    "\n"
   ]
  },
  {
   "cell_type": "markdown",
   "id": "4969133e",
   "metadata": {
    "id": "ACsvenslmYBQ"
   },
   "source": [
    "## Pandas Concatenation"
   ]
  },
  {
   "cell_type": "markdown",
   "id": "41bd8eb2",
   "metadata": {
    "id": "cwgg82N0mYBQ"
   },
   "source": [
    "Create a dataframe  d1 where the cols are  ‘city’ : [‘Chandigarh’, ‘Delhi’, ‘Kanpur’, ‘Chennai’, ‘Manali’ ] and ‘Temperature’ : [15, 22, 20, 26,-2] "
   ]
  },
  {
   "cell_type": "code",
   "execution_count": 43,
   "id": "0f7a8fa9",
   "metadata": {
    "id": "09tWwU18mYBR"
   },
   "outputs": [],
   "source": [
    "d1 = pd.DataFrame({'city':['chandigarh','Delhi','Kanpur','Chennai','Manali'],'Temprature':[15,22,20,26,-2]})\n",
    "\n",
    "\n"
   ]
  },
  {
   "cell_type": "markdown",
   "id": "c1d9b919",
   "metadata": {
    "id": "XAquuUx_mYBR"
   },
   "source": [
    "Print(d1)"
   ]
  },
  {
   "cell_type": "code",
   "execution_count": 44,
   "id": "b1520360",
   "metadata": {
    "id": "tEaf6dUVmYBR",
    "outputId": "02dd1795-381a-4d83-c8cc-37e15c066de8"
   },
   "outputs": [
    {
     "name": "stdout",
     "output_type": "stream",
     "text": [
      "         city  Temprature\n",
      "0  chandigarh          15\n",
      "1       Delhi          22\n",
      "2      Kanpur          20\n",
      "3     Chennai          26\n",
      "4      Manali          -2\n"
     ]
    }
   ],
   "source": [
    "print (d1)\n",
    "\n",
    "\n"
   ]
  },
  {
   "cell_type": "markdown",
   "id": "91d2a803",
   "metadata": {
    "id": "YmZ9u-4FmYBR"
   },
   "source": [
    "What is the shape of d1."
   ]
  },
  {
   "cell_type": "code",
   "execution_count": 45,
   "id": "b6c478ab",
   "metadata": {
    "id": "upPyfWR7mYBR",
    "outputId": "578b226c-493a-4e62-eb42-f29196452acf"
   },
   "outputs": [
    {
     "data": {
      "text/plain": [
       "(5, 2)"
      ]
     },
     "execution_count": 45,
     "metadata": {},
     "output_type": "execute_result"
    }
   ],
   "source": [
    "d1.shape\n",
    "\n",
    "\n"
   ]
  },
  {
   "cell_type": "markdown",
   "id": "6b9bdc7e",
   "metadata": {
    "id": "JtBQ5SLtmYBS"
   },
   "source": [
    "Set city = d1['city']"
   ]
  },
  {
   "cell_type": "code",
   "execution_count": 46,
   "id": "da472a2d",
   "metadata": {
    "id": "mzE78QzrmYBS"
   },
   "outputs": [],
   "source": [
    "city = d1['city']\n",
    "\n",
    "\n"
   ]
  },
  {
   "cell_type": "markdown",
   "id": "ca941e88",
   "metadata": {
    "id": "WubWnFIcmYBS"
   },
   "source": [
    "print city <br>\n",
    "What is the type of city."
   ]
  },
  {
   "cell_type": "code",
   "execution_count": 47,
   "id": "7cd80372",
   "metadata": {
    "id": "6d4EjYTemYBS",
    "outputId": "013b3d5f-4f17-45ca-bdbc-7c4f5166df33"
   },
   "outputs": [
    {
     "name": "stdout",
     "output_type": "stream",
     "text": [
      "0    chandigarh\n",
      "1         Delhi\n",
      "2        Kanpur\n",
      "3       Chennai\n",
      "4        Manali\n",
      "Name: city, dtype: object\n"
     ]
    },
    {
     "data": {
      "text/plain": [
       "pandas.core.series.Series"
      ]
     },
     "execution_count": 47,
     "metadata": {},
     "output_type": "execute_result"
    }
   ],
   "source": [
    "print (city)\n",
    "\n",
    "type(city)\n",
    "\n",
    "\n"
   ]
  },
  {
   "cell_type": "markdown",
   "id": "9b92b9e9",
   "metadata": {
    "id": "uUdrLgg6mYBS"
   },
   "source": [
    "Create another datafeame 'd2' where the columns are <br>\n",
    "'city' - ['Bengalaru','Coimbatore','Srirangam','Pondicherry'] <br>\n",
    "'Temperature' - [24,35,36,39]"
   ]
  },
  {
   "cell_type": "code",
   "execution_count": 48,
   "id": "a4e3f323",
   "metadata": {
    "id": "CFBCGcvhmYBS",
    "outputId": "fc5089d3-dfb0-438a-b654-920f5d5dac5d"
   },
   "outputs": [],
   "source": [
    "d2 = pd.DataFrame({'city':['Bengalaru','Coimbatore','Srirangam','Pondicherry'],'temperature':[24,35,36,39]})\n",
    "\n",
    "\n",
    "\n"
   ]
  },
  {
   "cell_type": "markdown",
   "id": "89428ae9",
   "metadata": {
    "id": "HivVdLN5mYBT"
   },
   "source": [
    "print the shape of this dataframe"
   ]
  },
  {
   "cell_type": "code",
   "execution_count": 49,
   "id": "3e85ba1f",
   "metadata": {
    "id": "9FFgtQJhmYBT",
    "outputId": "e2f88a69-e913-4b37-c118-8e6b3f9153c7"
   },
   "outputs": [
    {
     "data": {
      "text/plain": [
       "(4, 2)"
      ]
     },
     "execution_count": 49,
     "metadata": {},
     "output_type": "execute_result"
    }
   ],
   "source": [
    "\n",
    "d2.shape"
   ]
  },
  {
   "cell_type": "markdown",
   "id": "f059bf52",
   "metadata": {
    "id": "UK38h5ktmYBT"
   },
   "source": [
    "merge the two dataframes together, save it in a new dataframe named 'd3'"
   ]
  },
  {
   "cell_type": "code",
   "execution_count": 52,
   "id": "4e656ca9",
   "metadata": {
    "id": "GMbOPfjCmYBT",
    "outputId": "66c2b828-c00a-4393-c49c-68057f447fb2"
   },
   "outputs": [
    {
     "data": {
      "text/html": [
       "<div>\n",
       "<style scoped>\n",
       "    .dataframe tbody tr th:only-of-type {\n",
       "        vertical-align: middle;\n",
       "    }\n",
       "\n",
       "    .dataframe tbody tr th {\n",
       "        vertical-align: top;\n",
       "    }\n",
       "\n",
       "    .dataframe thead th {\n",
       "        text-align: right;\n",
       "    }\n",
       "</style>\n",
       "<table border=\"1\" class=\"dataframe\">\n",
       "  <thead>\n",
       "    <tr style=\"text-align: right;\">\n",
       "      <th></th>\n",
       "      <th>city</th>\n",
       "      <th>Temprature</th>\n",
       "      <th>temperature</th>\n",
       "    </tr>\n",
       "  </thead>\n",
       "  <tbody>\n",
       "    <tr>\n",
       "      <th>0</th>\n",
       "      <td>chandigarh</td>\n",
       "      <td>15.0</td>\n",
       "      <td>NaN</td>\n",
       "    </tr>\n",
       "    <tr>\n",
       "      <th>1</th>\n",
       "      <td>Delhi</td>\n",
       "      <td>22.0</td>\n",
       "      <td>NaN</td>\n",
       "    </tr>\n",
       "    <tr>\n",
       "      <th>2</th>\n",
       "      <td>Kanpur</td>\n",
       "      <td>20.0</td>\n",
       "      <td>NaN</td>\n",
       "    </tr>\n",
       "    <tr>\n",
       "      <th>3</th>\n",
       "      <td>Chennai</td>\n",
       "      <td>26.0</td>\n",
       "      <td>NaN</td>\n",
       "    </tr>\n",
       "    <tr>\n",
       "      <th>4</th>\n",
       "      <td>Manali</td>\n",
       "      <td>-2.0</td>\n",
       "      <td>NaN</td>\n",
       "    </tr>\n",
       "    <tr>\n",
       "      <th>0</th>\n",
       "      <td>Bengalaru</td>\n",
       "      <td>NaN</td>\n",
       "      <td>24.0</td>\n",
       "    </tr>\n",
       "    <tr>\n",
       "      <th>1</th>\n",
       "      <td>Coimbatore</td>\n",
       "      <td>NaN</td>\n",
       "      <td>35.0</td>\n",
       "    </tr>\n",
       "    <tr>\n",
       "      <th>2</th>\n",
       "      <td>Srirangam</td>\n",
       "      <td>NaN</td>\n",
       "      <td>36.0</td>\n",
       "    </tr>\n",
       "    <tr>\n",
       "      <th>3</th>\n",
       "      <td>Pondicherry</td>\n",
       "      <td>NaN</td>\n",
       "      <td>39.0</td>\n",
       "    </tr>\n",
       "  </tbody>\n",
       "</table>\n",
       "</div>"
      ],
      "text/plain": [
       "          city  Temprature  temperature\n",
       "0   chandigarh        15.0          NaN\n",
       "1        Delhi        22.0          NaN\n",
       "2       Kanpur        20.0          NaN\n",
       "3      Chennai        26.0          NaN\n",
       "4       Manali        -2.0          NaN\n",
       "0    Bengalaru         NaN         24.0\n",
       "1   Coimbatore         NaN         35.0\n",
       "2    Srirangam         NaN         36.0\n",
       "3  Pondicherry         NaN         39.0"
      ]
     },
     "execution_count": 52,
     "metadata": {},
     "output_type": "execute_result"
    }
   ],
   "source": [
    "d3 = pd.concat([d1,d2],axis = 0)\n",
    "\n",
    "\n",
    "d3\n"
   ]
  },
  {
   "cell_type": "markdown",
   "id": "46697f40",
   "metadata": {
    "id": "1dGlNGzjmYBT"
   },
   "source": [
    "Select the part of the dataframe such that it contains cities wherer temp is less then or equal to 20 <br>\n",
    "How many cities are there? "
   ]
  },
  {
   "cell_type": "code",
   "execution_count": 58,
   "id": "f4b7d838",
   "metadata": {
    "id": "1vtC2UkgmYBT",
    "outputId": "629b26f6-140b-4f57-c794-2202d80300b2"
   },
   "outputs": [
    {
     "data": {
      "text/plain": [
       "0    False\n",
       "1    False\n",
       "2    False\n",
       "3    False\n",
       "4    False\n",
       "0    False\n",
       "1    False\n",
       "2    False\n",
       "3    False\n",
       "Name: temperature, dtype: bool"
      ]
     },
     "execution_count": 58,
     "metadata": {},
     "output_type": "execute_result"
    }
   ],
   "source": [
    "#d3 [['city','temperature']]\n",
    "\n",
    "d3 ['temperature'] <= 20#[['temperature']]\n"
   ]
  },
  {
   "cell_type": "markdown",
   "id": "73d65ec4",
   "metadata": {
    "id": "82QIQRQUmYBT"
   },
   "source": [
    "Select the part of the dataframe such that it contains the cities where tempearature greater than or equal to 35"
   ]
  },
  {
   "cell_type": "code",
   "execution_count": 59,
   "id": "7d493042",
   "metadata": {
    "id": "Ea_hMtyGmYBU",
    "outputId": "540b5d81-ad25-4408-927f-0919887a8100"
   },
   "outputs": [
    {
     "data": {
      "text/plain": [
       "0    False\n",
       "1    False\n",
       "2    False\n",
       "3    False\n",
       "4    False\n",
       "0    False\n",
       "1     True\n",
       "2     True\n",
       "3     True\n",
       "Name: temperature, dtype: bool"
      ]
     },
     "execution_count": 59,
     "metadata": {},
     "output_type": "execute_result"
    }
   ],
   "source": [
    "\n",
    "d3 ['temperature'] >= 35\n",
    "\n"
   ]
  },
  {
   "cell_type": "markdown",
   "id": "629b370a",
   "metadata": {
    "id": "BrYscXpWmYBU"
   },
   "source": [
    "## Applying functions to columns and creating new columns"
   ]
  },
  {
   "cell_type": "markdown",
   "id": "39cfc7b6",
   "metadata": {
    "id": "7Z4ioDxtmYBU"
   },
   "source": [
    "We need to create another column in d3, which contains  a boolean value for each city to indicate whether it's a union territory or not. \n",
    "- HINT: Chandigarh, Pondicherry and Delhi are only 3 union territories here. \n"
   ]
  },
  {
   "cell_type": "code",
   "execution_count": 66,
   "id": "6c70aa2d",
   "metadata": {
    "id": "FR2wgv6tmYBU"
   },
   "outputs": [
    {
     "name": "stdout",
     "output_type": "stream",
     "text": [
      "          city  Temprature  temperature\n",
      "0   chandigarh        15.0          NaN\n",
      "1        Delhi        22.0          NaN\n",
      "2       Kanpur        20.0          NaN\n",
      "3      Chennai        26.0          NaN\n",
      "4       Manali        -2.0          NaN\n",
      "0    Bengalaru         NaN         24.0\n",
      "1   Coimbatore         NaN         35.0\n",
      "2    Srirangam         NaN         36.0\n",
      "3  Pondicherry         NaN         39.0\n"
     ]
    }
   ],
   "source": [
    "# write function here\n",
    "\n",
    "def is_ut(city):\n",
    "    ut_list = []\n",
    "    for a in city:\n",
    "        print (a)\n",
    "        if a not in ['Chandigarh','Pondichery','Delhi']:\n",
    "            ut_list.append(False)\n",
    "        else:\n",
    "            utlist.append(True)\n",
    "        return ut_list\n",
    "\n",
    "    ut = is_ut(d3['city'])\n",
    "\n",
    "print (d3)\n"
   ]
  },
  {
   "cell_type": "code",
   "execution_count": 73,
   "id": "45aff296",
   "metadata": {
    "id": "0hd7QjComYBU",
    "outputId": "8a788eef-b933-48b0-d1f0-fdaa5b25d102"
   },
   "outputs": [
    {
     "name": "stdout",
     "output_type": "stream",
     "text": [
      "          city  Temprature  temperature\n",
      "0   chandigarh        15.0          NaN\n",
      "1        Delhi        22.0          NaN\n",
      "2       Kanpur        20.0          NaN\n",
      "3      Chennai        26.0          NaN\n",
      "4       Manali        -2.0          NaN\n",
      "0    Bengalaru         NaN         24.0\n",
      "1   Coimbatore         NaN         35.0\n",
      "2    Srirangam         NaN         36.0\n",
      "3  Pondicherry         NaN         39.0\n"
     ]
    }
   ],
   "source": [
    "# print d3\n",
    "def is_ut(city):\n",
    "    ut_list = []\n",
    "    for a in d3['city']:\n",
    "        print (a)\n",
    "        if a not in ['Chandigarh','Pondichery','Delhi']:\n",
    "            ut_list.append(False)\n",
    "        else:\n",
    "            utlist.append(True)\n",
    "        d3['is_ut'] = ut_list\n",
    "\n",
    "print (d3)"
   ]
  },
  {
   "cell_type": "markdown",
   "id": "111a241f",
   "metadata": {
    "id": "z88YETlMmYBU"
   },
   "source": [
    "The temperatures mentioned in ‘Temperature’ column are mentioned in Celsius, we need another column which contains the same in Fahrenheit. "
   ]
  },
  {
   "cell_type": "markdown",
   "id": "4ed9ff49",
   "metadata": {
    "id": "ywp07m-xmYBU"
   },
   "source": [
    "HINT - \n",
    "- Define a function c_to_f which takes input temp in celsius and returns a value with temperature in Fahrenheit.\n",
    "- To check: c_to_f(10) should return 50. \n"
   ]
  },
  {
   "cell_type": "code",
   "execution_count": 76,
   "id": "2ee6acbd",
   "metadata": {
    "id": "V0x_0IAAmYBV"
   },
   "outputs": [
    {
     "name": "stdout",
     "output_type": "stream",
     "text": [
      "25.0 degrees celsius is equivalent to 77.0 degrees Fahrenheit\n"
     ]
    }
   ],
   "source": [
    "# write function here\n",
    "\n",
    "def c_to_f(c):\n",
    "    f = (c * 1.8) + 32\n",
    "    return f\n",
    "cel = 25\n",
    "\n",
    "fahr = c_to_f(cel)\n",
    "print('%0.1f degrees celsius is equivalent to %0.1f degrees Fahrenheit' %(cel,fahr))\n",
    "\n",
    "\n",
    "\n"
   ]
  },
  {
   "cell_type": "code",
   "execution_count": 77,
   "id": "4df56c93",
   "metadata": {
    "id": "Wc9meranmYBV",
    "outputId": "d83f0f45-482d-48a6-9226-2ea5ccac4e55"
   },
   "outputs": [
    {
     "name": "stdout",
     "output_type": "stream",
     "text": [
      "25.0 degrees celsius is equivalent to -14.0 degrees Fahrenheit\n"
     ]
    }
   ],
   "source": [
    "# check function c_to_f(10)\n",
    "\n",
    "\n",
    "def c_to_f(c):\n",
    "    f = (c * 1.8) - 32\n",
    "    return f\n",
    "cel = 25\n",
    "\n",
    "fahr = c_to_f(10)\n",
    "print('%0.1f degrees celsius is equivalent to %0.1f degrees Fahrenheit' %(cel,fahr))"
   ]
  },
  {
   "cell_type": "code",
   "execution_count": 79,
   "id": "1c246035",
   "metadata": {
    "id": "H79GUcoImYBV",
    "outputId": "834607ff-0221-45b5-d5b0-64b13a3acdfa"
   },
   "outputs": [
    {
     "ename": "ValueError",
     "evalue": "Length of values (1) does not match length of index (9)",
     "output_type": "error",
     "traceback": [
      "\u001b[1;31m---------------------------------------------------------------------------\u001b[0m",
      "\u001b[1;31mValueError\u001b[0m                                Traceback (most recent call last)",
      "Cell \u001b[1;32mIn[79], line 11\u001b[0m\n\u001b[0;32m      9\u001b[0m f \u001b[38;5;241m=\u001b[39m c_to_f(x)\n\u001b[0;32m     10\u001b[0m fahr_list\u001b[38;5;241m.\u001b[39mappend(f)\n\u001b[1;32m---> 11\u001b[0m d3[\u001b[38;5;124m'\u001b[39m\u001b[38;5;124mtemp.farenhiet\u001b[39m\u001b[38;5;124m'\u001b[39m] \u001b[38;5;241m=\u001b[39m fahr_list\n\u001b[0;32m     13\u001b[0m \u001b[38;5;28mprint\u001b[39m (d3)\n",
      "File \u001b[1;32m~\\anaconda3\\Lib\\site-packages\\pandas\\core\\frame.py:3950\u001b[0m, in \u001b[0;36mDataFrame.__setitem__\u001b[1;34m(self, key, value)\u001b[0m\n\u001b[0;32m   3947\u001b[0m     \u001b[38;5;28mself\u001b[39m\u001b[38;5;241m.\u001b[39m_setitem_array([key], value)\n\u001b[0;32m   3948\u001b[0m \u001b[38;5;28;01melse\u001b[39;00m:\n\u001b[0;32m   3949\u001b[0m     \u001b[38;5;66;03m# set column\u001b[39;00m\n\u001b[1;32m-> 3950\u001b[0m     \u001b[38;5;28mself\u001b[39m\u001b[38;5;241m.\u001b[39m_set_item(key, value)\n",
      "File \u001b[1;32m~\\anaconda3\\Lib\\site-packages\\pandas\\core\\frame.py:4143\u001b[0m, in \u001b[0;36mDataFrame._set_item\u001b[1;34m(self, key, value)\u001b[0m\n\u001b[0;32m   4133\u001b[0m \u001b[38;5;28;01mdef\u001b[39;00m \u001b[38;5;21m_set_item\u001b[39m(\u001b[38;5;28mself\u001b[39m, key, value) \u001b[38;5;241m-\u001b[39m\u001b[38;5;241m>\u001b[39m \u001b[38;5;28;01mNone\u001b[39;00m:\n\u001b[0;32m   4134\u001b[0m \u001b[38;5;250m    \u001b[39m\u001b[38;5;124;03m\"\"\"\u001b[39;00m\n\u001b[0;32m   4135\u001b[0m \u001b[38;5;124;03m    Add series to DataFrame in specified column.\u001b[39;00m\n\u001b[0;32m   4136\u001b[0m \n\u001b[1;32m   (...)\u001b[0m\n\u001b[0;32m   4141\u001b[0m \u001b[38;5;124;03m    ensure homogeneity.\u001b[39;00m\n\u001b[0;32m   4142\u001b[0m \u001b[38;5;124;03m    \"\"\"\u001b[39;00m\n\u001b[1;32m-> 4143\u001b[0m     value \u001b[38;5;241m=\u001b[39m \u001b[38;5;28mself\u001b[39m\u001b[38;5;241m.\u001b[39m_sanitize_column(value)\n\u001b[0;32m   4145\u001b[0m     \u001b[38;5;28;01mif\u001b[39;00m (\n\u001b[0;32m   4146\u001b[0m         key \u001b[38;5;129;01min\u001b[39;00m \u001b[38;5;28mself\u001b[39m\u001b[38;5;241m.\u001b[39mcolumns\n\u001b[0;32m   4147\u001b[0m         \u001b[38;5;129;01mand\u001b[39;00m value\u001b[38;5;241m.\u001b[39mndim \u001b[38;5;241m==\u001b[39m \u001b[38;5;241m1\u001b[39m\n\u001b[0;32m   4148\u001b[0m         \u001b[38;5;129;01mand\u001b[39;00m \u001b[38;5;129;01mnot\u001b[39;00m is_extension_array_dtype(value)\n\u001b[0;32m   4149\u001b[0m     ):\n\u001b[0;32m   4150\u001b[0m         \u001b[38;5;66;03m# broadcast across multiple columns if necessary\u001b[39;00m\n\u001b[0;32m   4151\u001b[0m         \u001b[38;5;28;01mif\u001b[39;00m \u001b[38;5;129;01mnot\u001b[39;00m \u001b[38;5;28mself\u001b[39m\u001b[38;5;241m.\u001b[39mcolumns\u001b[38;5;241m.\u001b[39mis_unique \u001b[38;5;129;01mor\u001b[39;00m \u001b[38;5;28misinstance\u001b[39m(\u001b[38;5;28mself\u001b[39m\u001b[38;5;241m.\u001b[39mcolumns, MultiIndex):\n",
      "File \u001b[1;32m~\\anaconda3\\Lib\\site-packages\\pandas\\core\\frame.py:4870\u001b[0m, in \u001b[0;36mDataFrame._sanitize_column\u001b[1;34m(self, value)\u001b[0m\n\u001b[0;32m   4867\u001b[0m     \u001b[38;5;28;01mreturn\u001b[39;00m _reindex_for_setitem(Series(value), \u001b[38;5;28mself\u001b[39m\u001b[38;5;241m.\u001b[39mindex)\n\u001b[0;32m   4869\u001b[0m \u001b[38;5;28;01mif\u001b[39;00m is_list_like(value):\n\u001b[1;32m-> 4870\u001b[0m     com\u001b[38;5;241m.\u001b[39mrequire_length_match(value, \u001b[38;5;28mself\u001b[39m\u001b[38;5;241m.\u001b[39mindex)\n\u001b[0;32m   4871\u001b[0m \u001b[38;5;28;01mreturn\u001b[39;00m sanitize_array(value, \u001b[38;5;28mself\u001b[39m\u001b[38;5;241m.\u001b[39mindex, copy\u001b[38;5;241m=\u001b[39m\u001b[38;5;28;01mTrue\u001b[39;00m, allow_2d\u001b[38;5;241m=\u001b[39m\u001b[38;5;28;01mTrue\u001b[39;00m)\n",
      "File \u001b[1;32m~\\anaconda3\\Lib\\site-packages\\pandas\\core\\common.py:576\u001b[0m, in \u001b[0;36mrequire_length_match\u001b[1;34m(data, index)\u001b[0m\n\u001b[0;32m    572\u001b[0m \u001b[38;5;250m\u001b[39m\u001b[38;5;124;03m\"\"\"\u001b[39;00m\n\u001b[0;32m    573\u001b[0m \u001b[38;5;124;03mCheck the length of data matches the length of the index.\u001b[39;00m\n\u001b[0;32m    574\u001b[0m \u001b[38;5;124;03m\"\"\"\u001b[39;00m\n\u001b[0;32m    575\u001b[0m \u001b[38;5;28;01mif\u001b[39;00m \u001b[38;5;28mlen\u001b[39m(data) \u001b[38;5;241m!=\u001b[39m \u001b[38;5;28mlen\u001b[39m(index):\n\u001b[1;32m--> 576\u001b[0m     \u001b[38;5;28;01mraise\u001b[39;00m \u001b[38;5;167;01mValueError\u001b[39;00m(\n\u001b[0;32m    577\u001b[0m         \u001b[38;5;124m\"\u001b[39m\u001b[38;5;124mLength of values \u001b[39m\u001b[38;5;124m\"\u001b[39m\n\u001b[0;32m    578\u001b[0m         \u001b[38;5;124mf\u001b[39m\u001b[38;5;124m\"\u001b[39m\u001b[38;5;124m(\u001b[39m\u001b[38;5;132;01m{\u001b[39;00m\u001b[38;5;28mlen\u001b[39m(data)\u001b[38;5;132;01m}\u001b[39;00m\u001b[38;5;124m) \u001b[39m\u001b[38;5;124m\"\u001b[39m\n\u001b[0;32m    579\u001b[0m         \u001b[38;5;124m\"\u001b[39m\u001b[38;5;124mdoes not match length of index \u001b[39m\u001b[38;5;124m\"\u001b[39m\n\u001b[0;32m    580\u001b[0m         \u001b[38;5;124mf\u001b[39m\u001b[38;5;124m\"\u001b[39m\u001b[38;5;124m(\u001b[39m\u001b[38;5;132;01m{\u001b[39;00m\u001b[38;5;28mlen\u001b[39m(index)\u001b[38;5;132;01m}\u001b[39;00m\u001b[38;5;124m)\u001b[39m\u001b[38;5;124m\"\u001b[39m\n\u001b[0;32m    581\u001b[0m     )\n",
      "\u001b[1;31mValueError\u001b[0m: Length of values (1) does not match length of index (9)"
     ]
    }
   ],
   "source": [
    "# apply function c_to_f to d3 to create a column 'temp_farenhiet'\n",
    "fahr_list = []\n",
    "\n",
    "def c_to_f(c):\n",
    "    f = (c * 1.8) - 32\n",
    "    return f\n",
    "\n",
    "for x in d3['temperature']:\n",
    "    f = c_to_f(x)\n",
    "    fahr_list.append(f)\n",
    "    d3['temp.farenhiet'] = fahr_list\n",
    "    \n",
    "    print (d3)"
   ]
  },
  {
   "cell_type": "markdown",
   "id": "c7880ece",
   "metadata": {
    "id": "Wj0p6JKHmYBV"
   },
   "source": [
    "## Indexing and selecting rows in DataFrame"
   ]
  },
  {
   "cell_type": "markdown",
   "id": "aff78985",
   "metadata": {
    "id": "fFitRJy2mYBV"
   },
   "source": [
    "Select subset of the dataframe d1 such that it contains the cities which are union territories."
   ]
  },
  {
   "cell_type": "code",
   "execution_count": 2,
   "id": "73dc3291",
   "metadata": {
    "id": "Kg8OSVz0mYBV",
    "outputId": "686083a4-3b1f-4c7d-8fb8-d26aac318e52"
   },
   "outputs": [
    {
     "ename": "SyntaxError",
     "evalue": "cannot assign to subscript here. Maybe you meant '==' instead of '='? (2523445267.py, line 1)",
     "output_type": "error",
     "traceback": [
      "\u001b[1;36m  Cell \u001b[1;32mIn[2], line 1\u001b[1;36m\u001b[0m\n\u001b[1;33m    d1 = d3 [d3['is_ut'] = 'ut_list']\u001b[0m\n\u001b[1;37m             ^\u001b[0m\n\u001b[1;31mSyntaxError\u001b[0m\u001b[1;31m:\u001b[0m cannot assign to subscript here. Maybe you meant '==' instead of '='?\n"
     ]
    }
   ],
   "source": [
    "d1 = d3 [d3['is_ut'] = 'ut_list']\n",
    "\n"
   ]
  },
  {
   "cell_type": "markdown",
   "id": "7d1f6e60",
   "metadata": {
    "id": "XnxQl4ZPmYBV"
   },
   "source": [
    "Select a subset of the dataframe d1 such that it contains the cities which only have temperature above 90 Farenhiet."
   ]
  },
  {
   "cell_type": "code",
   "execution_count": 3,
   "id": "b099729d",
   "metadata": {
    "id": "9o62VSn7mYBV",
    "outputId": "0cf73a78-2dfc-4be7-9bea-43fd0318b657"
   },
   "outputs": [
    {
     "ename": "NameError",
     "evalue": "name 'd3' is not defined",
     "output_type": "error",
     "traceback": [
      "\u001b[1;31m---------------------------------------------------------------------------\u001b[0m",
      "\u001b[1;31mNameError\u001b[0m                                 Traceback (most recent call last)",
      "Cell \u001b[1;32mIn[3], line 1\u001b[0m\n\u001b[1;32m----> 1\u001b[0m d1 \u001b[38;5;241m=\u001b[39md3[d3[\u001b[38;5;124m'\u001b[39m\u001b[38;5;124mtemp_farenhiet\u001b[39m\u001b[38;5;124m'\u001b[39m]\u001b[38;5;241m>\u001b[39m\u001b[38;5;241m90\u001b[39m]\n",
      "\u001b[1;31mNameError\u001b[0m: name 'd3' is not defined"
     ]
    }
   ],
   "source": [
    "d1 =d3[d3['temp_farenhiet']>90]\n",
    "\n",
    "\n"
   ]
  },
  {
   "cell_type": "markdown",
   "id": "753d165e",
   "metadata": {
    "id": "IQq7K2EtmYBW"
   },
   "source": [
    "Select only the first three rows of the dataframe d1. \n"
   ]
  },
  {
   "cell_type": "code",
   "execution_count": 87,
   "id": "c5f656c3",
   "metadata": {
    "id": "PlmVOyAAmYBW",
    "outputId": "2c1d6ad5-1e08-4f31-d0c0-c1fbf8289d32"
   },
   "outputs": [
    {
     "data": {
      "text/html": [
       "<div>\n",
       "<style scoped>\n",
       "    .dataframe tbody tr th:only-of-type {\n",
       "        vertical-align: middle;\n",
       "    }\n",
       "\n",
       "    .dataframe tbody tr th {\n",
       "        vertical-align: top;\n",
       "    }\n",
       "\n",
       "    .dataframe thead th {\n",
       "        text-align: right;\n",
       "    }\n",
       "</style>\n",
       "<table border=\"1\" class=\"dataframe\">\n",
       "  <thead>\n",
       "    <tr style=\"text-align: right;\">\n",
       "      <th></th>\n",
       "      <th>city</th>\n",
       "      <th>Temprature</th>\n",
       "    </tr>\n",
       "  </thead>\n",
       "  <tbody>\n",
       "    <tr>\n",
       "      <th>1</th>\n",
       "      <td>Delhi</td>\n",
       "      <td>22</td>\n",
       "    </tr>\n",
       "    <tr>\n",
       "      <th>2</th>\n",
       "      <td>Kanpur</td>\n",
       "      <td>20</td>\n",
       "    </tr>\n",
       "    <tr>\n",
       "      <th>3</th>\n",
       "      <td>Chennai</td>\n",
       "      <td>26</td>\n",
       "    </tr>\n",
       "  </tbody>\n",
       "</table>\n",
       "</div>"
      ],
      "text/plain": [
       "      city  Temprature\n",
       "1    Delhi          22\n",
       "2   Kanpur          20\n",
       "3  Chennai          26"
      ]
     },
     "execution_count": 87,
     "metadata": {},
     "output_type": "execute_result"
    }
   ],
   "source": [
    "d1.loc[[1,2,3]]"
   ]
  },
  {
   "cell_type": "markdown",
   "id": "8e28f8d1",
   "metadata": {
    "id": "MKNIbwW2mYBW"
   },
   "source": [
    "Select all the rows and last two columns in the dataframe.\n",
    "\n",
    "\n"
   ]
  },
  {
   "cell_type": "code",
   "execution_count": 88,
   "id": "f2cc023f",
   "metadata": {
    "id": "WfQasVJImYBW",
    "outputId": "c157a66e-61b9-4a9a-e7f1-6ee392ccfe3a"
   },
   "outputs": [
    {
     "name": "stderr",
     "output_type": "stream",
     "text": [
      "<>:1: SyntaxWarning: 'int' object is not subscriptable; perhaps you missed a comma?\n",
      "<>:1: SyntaxWarning: 'int' object is not subscriptable; perhaps you missed a comma?\n",
      "C:\\Users\\Admin\\AppData\\Local\\Temp\\ipykernel_11924\\100548653.py:1: SyntaxWarning: 'int' object is not subscriptable; perhaps you missed a comma?\n",
      "  d1.loc[1:4['is_ut','temp_farenhiet']]\n",
      "C:\\Users\\Admin\\AppData\\Local\\Temp\\ipykernel_11924\\100548653.py:1: SyntaxWarning: 'int' object is not subscriptable; perhaps you missed a comma?\n",
      "  d1.loc[1:4['is_ut','temp_farenhiet']]\n",
      "C:\\Users\\Admin\\AppData\\Local\\Temp\\ipykernel_11924\\100548653.py:1: SyntaxWarning: 'int' object is not subscriptable; perhaps you missed a comma?\n",
      "  d1.loc[1:4['is_ut','temp_farenhiet']]\n",
      "C:\\Users\\Admin\\AppData\\Local\\Temp\\ipykernel_11924\\100548653.py:1: SyntaxWarning: 'int' object is not subscriptable; perhaps you missed a comma?\n",
      "  d1.loc[1:4['is_ut','temp_farenhiet']]\n",
      "C:\\Users\\Admin\\AppData\\Local\\Temp\\ipykernel_11924\\100548653.py:1: SyntaxWarning: 'int' object is not subscriptable; perhaps you missed a comma?\n",
      "  d1.loc[1:4['is_ut','temp_farenhiet']]\n",
      "C:\\Users\\Admin\\AppData\\Local\\Temp\\ipykernel_11924\\100548653.py:1: SyntaxWarning: 'int' object is not subscriptable; perhaps you missed a comma?\n",
      "  d1.loc[1:4['is_ut','temp_farenhiet']]\n",
      "C:\\Users\\Admin\\AppData\\Local\\Temp\\ipykernel_11924\\100548653.py:1: SyntaxWarning: 'int' object is not subscriptable; perhaps you missed a comma?\n",
      "  d1.loc[1:4['is_ut','temp_farenhiet']]\n"
     ]
    },
    {
     "ename": "TypeError",
     "evalue": "'int' object is not subscriptable",
     "output_type": "error",
     "traceback": [
      "\u001b[1;31m---------------------------------------------------------------------------\u001b[0m",
      "\u001b[1;31mTypeError\u001b[0m                                 Traceback (most recent call last)",
      "Cell \u001b[1;32mIn[88], line 1\u001b[0m\n\u001b[1;32m----> 1\u001b[0m d1\u001b[38;5;241m.\u001b[39mloc[\u001b[38;5;241m1\u001b[39m:\u001b[38;5;241m4\u001b[39m[\u001b[38;5;124m'\u001b[39m\u001b[38;5;124mis_ut\u001b[39m\u001b[38;5;124m'\u001b[39m,\u001b[38;5;124m'\u001b[39m\u001b[38;5;124mtemp_farenhiet\u001b[39m\u001b[38;5;124m'\u001b[39m]]\n",
      "\u001b[1;31mTypeError\u001b[0m: 'int' object is not subscriptable"
     ]
    }
   ],
   "source": [
    "d1.loc[1:4['is_ut','temp_farenhiet']]"
   ]
  },
  {
   "cell_type": "markdown",
   "id": "8c564d52",
   "metadata": {
    "id": "LQ9xspkHmYBW"
   },
   "source": [
    "## Groupby"
   ]
  },
  {
   "cell_type": "code",
   "execution_count": 9,
   "id": "096f92ff",
   "metadata": {},
   "outputs": [],
   "source": [
    "# Create a dataframe using dictionary of your choice\n",
    "import pandas as pd\n",
    "\n",
    "data = pd.DataFrame({\n",
    "    'Name' : ['Ankit','Aishwarya','Kajal','Shubham'],\n",
    "    'Age' : [23,21,29,21],\n",
    "    'university' : ['BHU','JHU','DU','BHU'],\n",
    "})"
   ]
  },
  {
   "cell_type": "code",
   "execution_count": null,
   "id": "3b8accff",
   "metadata": {},
   "outputs": [],
   "source": []
  },
  {
   "cell_type": "code",
   "execution_count": 13,
   "id": "a81fddba",
   "metadata": {},
   "outputs": [
    {
     "name": "stdout",
     "output_type": "stream",
     "text": [
      "Age    94\n",
      "dtype: int64\n"
     ]
    }
   ],
   "source": [
    "# Use Groupby of single column with aggregate sum()\n",
    "\n",
    "df = pd.DataFrame(data, columns= ['Age']).sum()\n",
    "\n",
    "\n",
    "print (df)"
   ]
  },
  {
   "cell_type": "code",
   "execution_count": 15,
   "id": "9b0916f7",
   "metadata": {},
   "outputs": [
    {
     "name": "stdout",
     "output_type": "stream",
     "text": [
      "university\n",
      "BHU    2\n",
      "DU     1\n",
      "JHU    1\n",
      "Name: university, dtype: int64\n"
     ]
    }
   ],
   "source": [
    "# Use Groupby of single column with aggregate count()\n",
    "df2 = data.groupby (['university'])['university'].count()\n",
    "\n",
    "\n",
    "print (df2)"
   ]
  },
  {
   "cell_type": "code",
   "execution_count": 19,
   "id": "c7a75d6b",
   "metadata": {},
   "outputs": [
    {
     "name": "stdout",
     "output_type": "stream",
     "text": [
      "Age\n",
      "21    2\n",
      "23    1\n",
      "29    1\n",
      "dtype: int64\n",
      "university\n",
      "BHU    2\n",
      "DU     1\n",
      "JHU    1\n",
      "dtype: int64\n"
     ]
    }
   ],
   "source": [
    "# Use Groupby of single column with aggregate min() and max()\n",
    "\n",
    "df2 = data.groupby (['Age']).size().groupby(level=0).max()\n",
    "\n",
    "print (df2)\n",
    "\n",
    "df3 = data.groupby (['university']).size().groupby(level=0).min()\n",
    "\n",
    "print (df3)"
   ]
  },
  {
   "cell_type": "code",
   "execution_count": 21,
   "id": "092289c8",
   "metadata": {},
   "outputs": [
    {
     "name": "stdout",
     "output_type": "stream",
     "text": [
      "     agr_mean\n",
      "Age          \n",
      "21       21.0\n",
      "23       23.0\n",
      "29       29.0\n"
     ]
    }
   ],
   "source": [
    "# Use Groupby of any 2 columns with aggregate mean()\n",
    "\n",
    "df2 = data.groupby(['Age']).agg({'Age' : ['mean']})\n",
    "df2.columns = ['agr_mean']\n",
    "\n",
    "print (df2)\n"
   ]
  },
  {
   "cell_type": "code",
   "execution_count": 25,
   "id": "2baee4f1",
   "metadata": {},
   "outputs": [
    {
     "name": "stdout",
     "output_type": "stream",
     "text": [
      "               uni_min uni_max\n",
      "university Age                \n",
      "BHU        21      BHU     BHU\n",
      "           23      BHU     BHU\n",
      "DU         29       DU      DU\n",
      "JHU        21      JHU     JHU\n"
     ]
    }
   ],
   "source": [
    "# Use Groupby of any 2 columns with aggregate min() and max()\n",
    "\n",
    "df2 = data.groupby(['Age','Name']).agg({'Age' : ['min','max']},{'Name' : ['min','max']})\n",
    "df2.columns = ['age_min' ,'age_max']\n",
    "\n",
    "df3 = data.groupby(['university','Age']).agg({'university' : ['min','max']},{'Age' : ['min','max']})\n",
    "df3.columns = ['uni_min' ,'uni_max']\n",
    "\n",
    "print (df3)"
   ]
  },
  {
   "cell_type": "code",
   "execution_count": null,
   "id": "7afa2c4a",
   "metadata": {},
   "outputs": [],
   "source": []
  },
  {
   "cell_type": "markdown",
   "id": "52ef92e4",
   "metadata": {
    "id": "goEgED0xmYBY"
   },
   "source": [
    "## Data Range"
   ]
  },
  {
   "cell_type": "markdown",
   "id": "df7fe731",
   "metadata": {
    "id": "jJOxVdLemYBY"
   },
   "source": [
    "Create a pandas daterange where starting date is 1st of January,2020 and end date is 1st of April 2021, store it in a new variable named 'a'"
   ]
  },
  {
   "cell_type": "code",
   "execution_count": 36,
   "id": "f35a7234",
   "metadata": {
    "id": "Nvx8f5GTmYBZ"
   },
   "outputs": [
    {
     "name": "stdout",
     "output_type": "stream",
     "text": [
      "DatetimeIndex(['2020-01-01', '2020-01-02', '2020-01-03', '2020-01-04',\n",
      "               '2020-01-05', '2020-01-06', '2020-01-07', '2020-01-08',\n",
      "               '2020-01-09', '2020-01-10',\n",
      "               ...\n",
      "               '2021-03-23', '2021-03-24', '2021-03-25', '2021-03-26',\n",
      "               '2021-03-27', '2021-03-28', '2021-03-29', '2021-03-30',\n",
      "               '2021-03-31', '2021-04-01'],\n",
      "              dtype='datetime64[ns]', length=457, freq='D')\n"
     ]
    }
   ],
   "source": [
    "import pandas as pd\n",
    "\n",
    "a = pd.date_range (start = '2020-01-01', end = '2021-04-01')\n",
    "    \n",
    "\n",
    "\n"
   ]
  },
  {
   "cell_type": "markdown",
   "id": "7449aa05",
   "metadata": {
    "id": "ybvAMVSzmYBZ"
   },
   "source": [
    "print a"
   ]
  },
  {
   "cell_type": "code",
   "execution_count": 37,
   "id": "1eb13c36",
   "metadata": {
    "id": "TOe-Alj8mYBZ",
    "outputId": "a0e830f7-6826-4082-98c4-cc02bcfe43f3"
   },
   "outputs": [
    {
     "name": "stdout",
     "output_type": "stream",
     "text": [
      "DatetimeIndex(['2020-01-01', '2020-01-02', '2020-01-03', '2020-01-04',\n",
      "               '2020-01-05', '2020-01-06', '2020-01-07', '2020-01-08',\n",
      "               '2020-01-09', '2020-01-10',\n",
      "               ...\n",
      "               '2021-03-23', '2021-03-24', '2021-03-25', '2021-03-26',\n",
      "               '2021-03-27', '2021-03-28', '2021-03-29', '2021-03-30',\n",
      "               '2021-03-31', '2021-04-01'],\n",
      "              dtype='datetime64[ns]', length=457, freq='D')\n"
     ]
    }
   ],
   "source": [
    "\n",
    "print (a)\n"
   ]
  },
  {
   "cell_type": "markdown",
   "id": "cc33d15a",
   "metadata": {
    "id": "vI1gctGmmYBZ"
   },
   "source": [
    "What is the len of a?"
   ]
  },
  {
   "cell_type": "code",
   "execution_count": 38,
   "id": "fc72daaf",
   "metadata": {
    "id": "D66uR7vDmYBZ",
    "outputId": "c3fcbc58-7b57-4cf8-bc44-85303b525c6e"
   },
   "outputs": [
    {
     "data": {
      "text/plain": [
       "457"
      ]
     },
     "execution_count": 38,
     "metadata": {},
     "output_type": "execute_result"
    }
   ],
   "source": [
    "\n",
    "len(a)\n"
   ]
  },
  {
   "cell_type": "markdown",
   "id": "20e56d33",
   "metadata": {
    "id": "MQvcL-SImYBZ"
   },
   "source": [
    "What is the type of a?"
   ]
  },
  {
   "cell_type": "code",
   "execution_count": 39,
   "id": "1cb55387",
   "metadata": {
    "id": "cnb8Z0CXmYBZ",
    "outputId": "a72dc4cd-5225-4098-8084-900f69caeb81"
   },
   "outputs": [
    {
     "data": {
      "text/plain": [
       "pandas.core.indexes.datetimes.DatetimeIndex"
      ]
     },
     "execution_count": 39,
     "metadata": {},
     "output_type": "execute_result"
    }
   ],
   "source": [
    "\n",
    "type(a)\n",
    "\n"
   ]
  },
  {
   "cell_type": "code",
   "execution_count": null,
   "id": "b319bd6b",
   "metadata": {},
   "outputs": [],
   "source": []
  }
 ],
 "metadata": {
  "colab": {
   "collapsed_sections": [],
   "provenance": []
  },
  "kernelspec": {
   "display_name": "Python 3 (ipykernel)",
   "language": "python",
   "name": "python3"
  },
  "language_info": {
   "codemirror_mode": {
    "name": "ipython",
    "version": 3
   },
   "file_extension": ".py",
   "mimetype": "text/x-python",
   "name": "python",
   "nbconvert_exporter": "python",
   "pygments_lexer": "ipython3",
   "version": "3.11.5"
  }
 },
 "nbformat": 4,
 "nbformat_minor": 5
}
